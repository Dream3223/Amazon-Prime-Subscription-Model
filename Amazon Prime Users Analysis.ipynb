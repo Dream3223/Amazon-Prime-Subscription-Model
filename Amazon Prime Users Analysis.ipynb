{
 "cells": [
  {
   "cell_type": "code",
   "execution_count": 140,
   "id": "75f93f57-27e6-4f63-beb0-95c922b7910c",
   "metadata": {},
   "outputs": [],
   "source": [
    "import pandas as pd\n",
    "import numpy as np\n",
    "import matplotlib.pyplot as plt\n",
    "import seaborn as sns\n",
    "\n"
   ]
  },
  {
   "cell_type": "code",
   "execution_count": 141,
   "id": "367adacb-0aae-4190-ab98-0bf03adff7f7",
   "metadata": {},
   "outputs": [],
   "source": [
    "# Load the dataset\n",
    "data = pd.read_csv(\"amazon_prime_users.csv\")\n",
    "\n"
   ]
  },
  {
   "cell_type": "code",
   "execution_count": 142,
   "id": "b6c7985a-54e0-4e2f-9acd-56d0fcba8fa5",
   "metadata": {},
   "outputs": [
    {
     "data": {
      "text/plain": [
       "False"
      ]
     },
     "execution_count": 142,
     "metadata": {},
     "output_type": "execute_result"
    }
   ],
   "source": [
    "# Check for missing values\n",
    "data.isnull().sum().any()\n",
    "\n"
   ]
  },
  {
   "cell_type": "code",
   "execution_count": 143,
   "id": "6d70344a-2710-45ed-ab1d-791a2bb52c7b",
   "metadata": {},
   "outputs": [
    {
     "name": "stdout",
     "output_type": "stream",
     "text": [
      "<class 'pandas.core.frame.DataFrame'>\n",
      "RangeIndex: 2500 entries, 0 to 2499\n",
      "Data columns (total 19 columns):\n",
      " #   Column                         Non-Null Count  Dtype  \n",
      "---  ------                         --------------  -----  \n",
      " 0   User ID                        2500 non-null   int64  \n",
      " 1   Name                           2500 non-null   object \n",
      " 2   Email Address                  2500 non-null   object \n",
      " 3   Username                       2500 non-null   object \n",
      " 4   Date of Birth                  2500 non-null   object \n",
      " 5   Gender                         2500 non-null   object \n",
      " 6   Location                       2500 non-null   object \n",
      " 7   Membership Start Date          2500 non-null   object \n",
      " 8   Membership End Date            2500 non-null   object \n",
      " 9   Subscription Plan              2500 non-null   object \n",
      " 10  Payment Information            2500 non-null   object \n",
      " 11  Renewal Status                 2500 non-null   object \n",
      " 12  Usage Frequency                2500 non-null   object \n",
      " 13  Purchase History               2500 non-null   object \n",
      " 14  Favorite Genres                2500 non-null   object \n",
      " 15  Devices Used                   2500 non-null   object \n",
      " 16  Engagement Metrics             2500 non-null   object \n",
      " 17  Feedback/Ratings               2500 non-null   float64\n",
      " 18  Customer Support Interactions  2500 non-null   int64  \n",
      "dtypes: float64(1), int64(2), object(16)\n",
      "memory usage: 371.2+ KB\n"
     ]
    }
   ],
   "source": [
    "# Check data types\n",
    "data.info()"
   ]
  },
  {
   "cell_type": "code",
   "execution_count": 144,
   "id": "9a96fc78-e65b-46dd-88f8-153c3626a87a",
   "metadata": {},
   "outputs": [],
   "source": [
    "# Convert columns to datetime\n",
    "date_columns = ['Date of Birth', 'Membership Start Date', 'Membership End Date']\n",
    "data[date_columns] = data[date_columns].apply(pd.to_datetime)"
   ]
  },
  {
   "cell_type": "code",
   "execution_count": 145,
   "id": "5673f463-c02d-407b-8e31-d5097fff328f",
   "metadata": {
    "scrolled": true
   },
   "outputs": [
    {
     "data": {
      "text/html": [
       "<div>\n",
       "<style scoped>\n",
       "    .dataframe tbody tr th:only-of-type {\n",
       "        vertical-align: middle;\n",
       "    }\n",
       "\n",
       "    .dataframe tbody tr th {\n",
       "        vertical-align: top;\n",
       "    }\n",
       "\n",
       "    .dataframe thead th {\n",
       "        text-align: right;\n",
       "    }\n",
       "</style>\n",
       "<table border=\"1\" class=\"dataframe\">\n",
       "  <thead>\n",
       "    <tr style=\"text-align: right;\">\n",
       "      <th></th>\n",
       "      <th>User ID</th>\n",
       "      <th>Name</th>\n",
       "      <th>Email Address</th>\n",
       "      <th>Username</th>\n",
       "      <th>Date of Birth</th>\n",
       "      <th>Gender</th>\n",
       "      <th>Location</th>\n",
       "      <th>Membership Start Date</th>\n",
       "      <th>Membership End Date</th>\n",
       "      <th>Subscription Plan</th>\n",
       "      <th>Payment Information</th>\n",
       "      <th>Renewal Status</th>\n",
       "      <th>Usage Frequency</th>\n",
       "      <th>Purchase History</th>\n",
       "      <th>Favorite Genres</th>\n",
       "      <th>Devices Used</th>\n",
       "      <th>Engagement Metrics</th>\n",
       "      <th>Feedback/Ratings</th>\n",
       "      <th>Customer Support Interactions</th>\n",
       "    </tr>\n",
       "  </thead>\n",
       "  <tbody>\n",
       "    <tr>\n",
       "      <th>0</th>\n",
       "      <td>1</td>\n",
       "      <td>Ronald Murphy</td>\n",
       "      <td>williamholland@example.com</td>\n",
       "      <td>williamholland</td>\n",
       "      <td>1953-06-03</td>\n",
       "      <td>Male</td>\n",
       "      <td>Rebeccachester</td>\n",
       "      <td>2024-01-15</td>\n",
       "      <td>2025-01-14</td>\n",
       "      <td>Annual</td>\n",
       "      <td>Mastercard</td>\n",
       "      <td>Manual</td>\n",
       "      <td>Regular</td>\n",
       "      <td>Electronics</td>\n",
       "      <td>Documentary</td>\n",
       "      <td>Smart TV</td>\n",
       "      <td>Medium</td>\n",
       "      <td>3.6</td>\n",
       "      <td>3</td>\n",
       "    </tr>\n",
       "    <tr>\n",
       "      <th>1</th>\n",
       "      <td>2</td>\n",
       "      <td>Scott Allen</td>\n",
       "      <td>scott22@example.org</td>\n",
       "      <td>scott22</td>\n",
       "      <td>1978-07-08</td>\n",
       "      <td>Male</td>\n",
       "      <td>Mcphersonview</td>\n",
       "      <td>2024-01-07</td>\n",
       "      <td>2025-01-06</td>\n",
       "      <td>Monthly</td>\n",
       "      <td>Visa</td>\n",
       "      <td>Manual</td>\n",
       "      <td>Regular</td>\n",
       "      <td>Electronics</td>\n",
       "      <td>Horror</td>\n",
       "      <td>Smartphone</td>\n",
       "      <td>Medium</td>\n",
       "      <td>3.8</td>\n",
       "      <td>7</td>\n",
       "    </tr>\n",
       "    <tr>\n",
       "      <th>2</th>\n",
       "      <td>3</td>\n",
       "      <td>Jonathan Parrish</td>\n",
       "      <td>brooke16@example.org</td>\n",
       "      <td>brooke16</td>\n",
       "      <td>1994-12-06</td>\n",
       "      <td>Female</td>\n",
       "      <td>Youngfort</td>\n",
       "      <td>2024-04-13</td>\n",
       "      <td>2025-04-13</td>\n",
       "      <td>Monthly</td>\n",
       "      <td>Mastercard</td>\n",
       "      <td>Manual</td>\n",
       "      <td>Regular</td>\n",
       "      <td>Books</td>\n",
       "      <td>Comedy</td>\n",
       "      <td>Smart TV</td>\n",
       "      <td>Low</td>\n",
       "      <td>3.3</td>\n",
       "      <td>8</td>\n",
       "    </tr>\n",
       "    <tr>\n",
       "      <th>3</th>\n",
       "      <td>4</td>\n",
       "      <td>Megan Williams</td>\n",
       "      <td>elizabeth31@example.net</td>\n",
       "      <td>elizabeth31</td>\n",
       "      <td>1964-12-22</td>\n",
       "      <td>Female</td>\n",
       "      <td>Feliciashire</td>\n",
       "      <td>2024-01-24</td>\n",
       "      <td>2025-01-23</td>\n",
       "      <td>Monthly</td>\n",
       "      <td>Amex</td>\n",
       "      <td>Auto-renew</td>\n",
       "      <td>Regular</td>\n",
       "      <td>Electronics</td>\n",
       "      <td>Documentary</td>\n",
       "      <td>Smart TV</td>\n",
       "      <td>High</td>\n",
       "      <td>3.3</td>\n",
       "      <td>7</td>\n",
       "    </tr>\n",
       "    <tr>\n",
       "      <th>4</th>\n",
       "      <td>5</td>\n",
       "      <td>Kathryn Brown</td>\n",
       "      <td>pattersonalexandra@example.org</td>\n",
       "      <td>pattersonalexandra</td>\n",
       "      <td>1961-06-04</td>\n",
       "      <td>Male</td>\n",
       "      <td>Port Deborah</td>\n",
       "      <td>2024-02-14</td>\n",
       "      <td>2025-02-13</td>\n",
       "      <td>Annual</td>\n",
       "      <td>Visa</td>\n",
       "      <td>Auto-renew</td>\n",
       "      <td>Frequent</td>\n",
       "      <td>Clothing</td>\n",
       "      <td>Drama</td>\n",
       "      <td>Smart TV</td>\n",
       "      <td>Low</td>\n",
       "      <td>4.3</td>\n",
       "      <td>1</td>\n",
       "    </tr>\n",
       "  </tbody>\n",
       "</table>\n",
       "</div>"
      ],
      "text/plain": [
       "   User ID              Name                   Email Address  \\\n",
       "0        1     Ronald Murphy      williamholland@example.com   \n",
       "1        2       Scott Allen             scott22@example.org   \n",
       "2        3  Jonathan Parrish            brooke16@example.org   \n",
       "3        4    Megan Williams         elizabeth31@example.net   \n",
       "4        5     Kathryn Brown  pattersonalexandra@example.org   \n",
       "\n",
       "             Username Date of Birth  Gender        Location  \\\n",
       "0      williamholland    1953-06-03    Male  Rebeccachester   \n",
       "1             scott22    1978-07-08    Male   Mcphersonview   \n",
       "2            brooke16    1994-12-06  Female       Youngfort   \n",
       "3         elizabeth31    1964-12-22  Female    Feliciashire   \n",
       "4  pattersonalexandra    1961-06-04    Male    Port Deborah   \n",
       "\n",
       "  Membership Start Date Membership End Date Subscription Plan  \\\n",
       "0            2024-01-15          2025-01-14            Annual   \n",
       "1            2024-01-07          2025-01-06           Monthly   \n",
       "2            2024-04-13          2025-04-13           Monthly   \n",
       "3            2024-01-24          2025-01-23           Monthly   \n",
       "4            2024-02-14          2025-02-13            Annual   \n",
       "\n",
       "  Payment Information Renewal Status Usage Frequency Purchase History  \\\n",
       "0          Mastercard         Manual         Regular      Electronics   \n",
       "1                Visa         Manual         Regular      Electronics   \n",
       "2          Mastercard         Manual         Regular            Books   \n",
       "3                Amex     Auto-renew         Regular      Electronics   \n",
       "4                Visa     Auto-renew        Frequent         Clothing   \n",
       "\n",
       "  Favorite Genres Devices Used Engagement Metrics  Feedback/Ratings  \\\n",
       "0     Documentary     Smart TV             Medium               3.6   \n",
       "1          Horror   Smartphone             Medium               3.8   \n",
       "2          Comedy     Smart TV                Low               3.3   \n",
       "3     Documentary     Smart TV               High               3.3   \n",
       "4           Drama     Smart TV                Low               4.3   \n",
       "\n",
       "   Customer Support Interactions  \n",
       "0                              3  \n",
       "1                              7  \n",
       "2                              8  \n",
       "3                              7  \n",
       "4                              1  "
      ]
     },
     "execution_count": 145,
     "metadata": {},
     "output_type": "execute_result"
    }
   ],
   "source": [
    "# Display the first 5 rows of the data set\n",
    "data.head()"
   ]
  },
  {
   "cell_type": "code",
   "execution_count": null,
   "id": "5be8fe41-bd28-4b70-88c6-6056534a0d26",
   "metadata": {},
   "outputs": [],
   "source": []
  },
  {
   "cell_type": "code",
   "execution_count": null,
   "id": "6aee65ce-6b94-48c1-97da-c2a61345d757",
   "metadata": {},
   "outputs": [],
   "source": []
  },
  {
   "cell_type": "code",
   "execution_count": 146,
   "id": "d6d0ff52-42e8-48f0-88a2-80d13c9b874b",
   "metadata": {},
   "outputs": [
    {
     "data": {
      "text/html": [
       "<div>\n",
       "<style scoped>\n",
       "    .dataframe tbody tr th:only-of-type {\n",
       "        vertical-align: middle;\n",
       "    }\n",
       "\n",
       "    .dataframe tbody tr th {\n",
       "        vertical-align: top;\n",
       "    }\n",
       "\n",
       "    .dataframe thead th {\n",
       "        text-align: right;\n",
       "    }\n",
       "</style>\n",
       "<table border=\"1\" class=\"dataframe\">\n",
       "  <thead>\n",
       "    <tr style=\"text-align: right;\">\n",
       "      <th></th>\n",
       "      <th>Month</th>\n",
       "      <th>Month_Text</th>\n",
       "      <th>Count</th>\n",
       "    </tr>\n",
       "  </thead>\n",
       "  <tbody>\n",
       "    <tr>\n",
       "      <th>0</th>\n",
       "      <td>1</td>\n",
       "      <td>Jan</td>\n",
       "      <td>773</td>\n",
       "    </tr>\n",
       "    <tr>\n",
       "      <th>1</th>\n",
       "      <td>2</td>\n",
       "      <td>Feb</td>\n",
       "      <td>651</td>\n",
       "    </tr>\n",
       "    <tr>\n",
       "      <th>2</th>\n",
       "      <td>3</td>\n",
       "      <td>Mar</td>\n",
       "      <td>744</td>\n",
       "    </tr>\n",
       "    <tr>\n",
       "      <th>3</th>\n",
       "      <td>4</td>\n",
       "      <td>Apr</td>\n",
       "      <td>332</td>\n",
       "    </tr>\n",
       "  </tbody>\n",
       "</table>\n",
       "</div>"
      ],
      "text/plain": [
       "   Month Month_Text  Count\n",
       "0      1        Jan    773\n",
       "1      2        Feb    651\n",
       "2      3        Mar    744\n",
       "3      4        Apr    332"
      ]
     },
     "execution_count": 146,
     "metadata": {},
     "output_type": "execute_result"
    }
   ],
   "source": [
    "# Check month distribution for membership starting\n",
    "data['Month'] = data['Membership Start Date'].dt.month\n",
    "data['Month_Text'] = data['Membership Start Date'].dt.month_name().str.slice(stop=3)\n",
    "\n",
    "# Group by `Month` and `Month_Text`, sum it, and sort. Assign result to new DataFrame\n",
    "data_by_month = data.groupby(['Month', 'Month_Text']).size().reset_index(name='Count').sort_values('Month').head(12)\n",
    "data_by_month\n",
    "\n",
    "# April is lower than the rest as the data only goes through 4-13-2024"
   ]
  },
  {
   "cell_type": "code",
   "execution_count": 147,
   "id": "1d2f2a28-c349-4aff-a1dc-79e9eed52031",
   "metadata": {},
   "outputs": [
    {
     "name": "stderr",
     "output_type": "stream",
     "text": [
      "C:\\Users\\luke3\\anaconda3\\Lib\\site-packages\\seaborn\\_oldcore.py:1119: FutureWarning: use_inf_as_na option is deprecated and will be removed in a future version. Convert inf values to NaN before operating instead.\n",
      "  with pd.option_context('mode.use_inf_as_na', True):\n"
     ]
    },
    {
     "data": {
      "image/png": "[encoded data removed]",
      "text/plain": [
       "<Figure size 1800x600 with 3 Axes>"
      ]
     },
     "metadata": {},
     "output_type": "display_data"
    }
   ],
   "source": [
    "# Create subplots for the three plots\n",
    "fig, axes = plt.subplots(nrows=1, ncols=3, figsize=(18, 6))\n",
    "\n",
    "# Plot 1: Bar plot of Gender Distribution\n",
    "gender_counts = data['Gender'].value_counts()\n",
    "sns.barplot(x=gender_counts.index, y=gender_counts.values, ax=axes[0], palette=['blue', 'hotpink'])\n",
    "axes[0].set_title('Gender Distribution')\n",
    "axes[0].set_xlabel('Gender')\n",
    "axes[0].set_ylabel('Count')\n",
    "\n",
    "# Add counts above the bars\n",
    "for index, value in enumerate(gender_counts.values):\n",
    "    axes[0].text(index, value + 0.1, str(value), ha='center', va='bottom')\n",
    "\n",
    "# Plot 2: Bar plot of Favorite Genres\n",
    "genre_counts = data['Favorite Genres'].value_counts()\n",
    "sns.barplot(x=genre_counts.index, y=genre_counts.values, ax=axes[1])\n",
    "axes[1].set_title('Distribution of Favorite Genres')\n",
    "axes[1].set_xlabel('Genre')\n",
    "axes[1].set_ylabel('Frequency')\n",
    "axes[1].tick_params(axis='x', rotation=45)  # Rotate x-axis labels for better readability\n",
    "\n",
    "# Add counts above the bars\n",
    "for index, value in enumerate(genre_counts.values):\n",
    "    axes[1].text(index, value + 0.1, str(value), ha='center', va='bottom')\n",
    "    \n",
    "# Plot 3: Histogram of Feedback Ratings\n",
    "sns.histplot(data=data, x='Feedback/Ratings', bins=5, kde=True, ax=axes[2])\n",
    "axes[2].set_title('Distribution of Feedback Ratings')\n",
    "axes[2].set_xlabel('Feedback Rating')\n",
    "axes[2].set_ylabel('Frequency')\n",
    "\n",
    "plt.tight_layout()\n",
    "plt.show()"
   ]
  },
  {
   "cell_type": "code",
   "execution_count": 148,
   "id": "474c8348-8135-4bf1-85c6-ac298546e39c",
   "metadata": {},
   "outputs": [],
   "source": [
    "#testing my git abilities"
   ]
  },
  {
   "cell_type": "code",
   "execution_count": null,
   "id": "232af2ef-4470-4b58-8a94-33675d03e9cd",
   "metadata": {},
   "outputs": [],
   "source": [
    "#dsafasdfasdfasdfasdf"
   ]
  },
  {
   "cell_type": "code",
   "execution_count": null,
   "id": "41a0a917-f7d3-43ae-b87b-c98488240a01",
   "metadata": {},
   "outputs": [],
   "source": []
  },
  {
   "cell_type": "code",
   "execution_count": null,
   "id": "da2c0f29-da3f-4ef8-bf9b-4b2b9f6b4b2d",
   "metadata": {},
   "outputs": [],
   "source": []
  },
  {
   "cell_type": "code",
   "execution_count": null,
   "id": "f7faaabd-e001-4f74-9a18-23bd95aab5ac",
   "metadata": {},
   "outputs": [],
   "source": []
  }
 ],
 "metadata": {
  "kernelspec": {
   "display_name": "Python 3 (ipykernel)",
   "language": "python",
   "name": "python3"
  },
  "language_info": {
   "codemirror_mode": {
    "name": "ipython",
    "version": 3
   },
   "file_extension": ".py",
   "mimetype": "text/x-python",
   "name": "python",
   "nbconvert_exporter": "python",
   "pygments_lexer": "ipython3",
   "version": "3.11.7"
  }
 },
 "nbformat": 4,
 "nbformat_minor": 5
}
